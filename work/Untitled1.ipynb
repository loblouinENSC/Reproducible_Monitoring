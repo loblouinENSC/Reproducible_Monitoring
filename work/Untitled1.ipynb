{
 "cells": [
  {
   "cell_type": "code",
   "execution_count": 1,
   "id": "f42ceb60",
   "metadata": {},
   "outputs": [
    {
     "name": "stdout",
     "output_type": "stream",
     "text": [
      "Successfully imported toilet functions.\n",
      "Successfully imported sleep functions.\n",
      "Successfully imported outings functions.\n",
      "Loading initial data...\n",
      "Toilet data loaded: Daily shape=(333, 5), Monthly shape=(12, 7)\n",
      "Sleep data loaded: Daily shape=(296, 3), Monthly shape=(12, 4), Sleep Failures shape=(10, 3)\n",
      "Outings data loaded: Daily shape=(138, 6), Monthly shape=(12, 5), Door Failures shape=(10, 3)\n",
      "Initial data loading complete.\n",
      "Starting Dash Manager App...\n"
     ]
    },
    {
     "data": {
      "text/html": [
       "\n",
       "        <iframe\n",
       "            width=\"100%\"\n",
       "            height=\"650\"\n",
       "            src=\"http://127.0.0.1:8050/\"\n",
       "            frameborder=\"0\"\n",
       "            allowfullscreen\n",
       "            \n",
       "        ></iframe>\n",
       "        "
      ],
      "text/plain": [
       "<IPython.lib.display.IFrame at 0x7fad3c2e5570>"
      ]
     },
     "metadata": {},
     "output_type": "display_data"
    }
   ],
   "source": [
    "%run dashBoardManager"
   ]
  }
 ],
 "metadata": {
  "kernelspec": {
   "display_name": "Python 3",
   "language": "python",
   "name": "python3"
  },
  "language_info": {
   "codemirror_mode": {
    "name": "ipython",
    "version": 3
   },
   "file_extension": ".py",
   "mimetype": "text/x-python",
   "name": "python",
   "nbconvert_exporter": "python",
   "pygments_lexer": "ipython3",
   "version": "3.10.12"
  }
 },
 "nbformat": 4,
 "nbformat_minor": 5
}
