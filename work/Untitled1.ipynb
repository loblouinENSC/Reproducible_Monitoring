{
 "cells": [
  {
   "cell_type": "code",
   "execution_count": 1,
   "id": "f42ceb60",
   "metadata": {},
   "outputs": [
    {
     "name": "stdout",
     "output_type": "stream",
     "text": [
      "Successfully imported toilet functions.\n",
      "Successfully imported sleep functions.\n",
      "Successfully imported outings functions.\n",
      "Loading initial data...\n",
      "CSV files saved in folder: new_processed_csv/new_toilet_csv\n",
      "Toilet data loaded: Raw shape=(3630, 4), Daily agg shape=(333, 7), Monthly agg shape=(12, 8), Failures shape=(100, 2)\n",
      "CSV files saved in folder: new_processed_csv/new_sleep_csv\n",
      "Sleep data loaded: Raw shape=(884, 4), Daily agg shape=(296, 6), Monthly agg shape=(12, 5), Failures shape=(164, 2)\n",
      "CSV files saved in folder: new_processed_csv/new_outing_csv\n",
      "Outings data loaded: Raw shape=(38, 3), Daily agg shape=(331, 7), Monthly agg shape=(12, 6), Failures shape=(205, 2)\n",
      "Initial data loading complete.\n",
      "Starting Dash Manager App...\n"
     ]
    },
    {
     "name": "stderr",
     "output_type": "stream",
     "text": [
      "/root/linux_documents/Reproducible_Monitoring/work/visualize_outing_new.py:47: UserWarning: Could not infer format, so each element will be parsed individually, falling back to `dateutil`. To ensure parsing is consistent and as-expected, please specify a format.\n",
      "  failure_dates_df = pd.read_csv(\n",
      "/root/linux_documents/Reproducible_Monitoring/work/visualize_outing_new.py:51: UserWarning: Could not infer format, so each element will be parsed individually, falling back to `dateutil`. To ensure parsing is consistent and as-expected, please specify a format.\n",
      "  door_failure_daily_markers['date'] = pd.to_datetime(door_failure_daily_markers['date'], errors='coerce')\n"
     ]
    },
    {
     "data": {
      "text/html": [
       "\n",
       "        <iframe\n",
       "            width=\"100%\"\n",
       "            height=\"650\"\n",
       "            src=\"http://127.0.0.1:8050/\"\n",
       "            frameborder=\"0\"\n",
       "            allowfullscreen\n",
       "            \n",
       "        ></iframe>\n",
       "        "
      ],
      "text/plain": [
       "<IPython.lib.display.IFrame at 0x7efbd2eccee0>"
      ]
     },
     "metadata": {},
     "output_type": "display_data"
    },
    {
     "name": "stderr",
     "output_type": "stream",
     "text": [
      "/usr/local/lib/python3.10/dist-packages/numpy/_core/fromnumeric.py:57: RuntimeWarning:\n",
      "\n",
      "overflow encountered in multiply\n",
      "\n",
      "/usr/local/lib/python3.10/dist-packages/numpy/_core/fromnumeric.py:57: RuntimeWarning:\n",
      "\n",
      "overflow encountered in multiply\n",
      "\n"
     ]
    }
   ],
   "source": [
    "%run dashBoardManager"
   ]
  }
 ],
 "metadata": {
  "kernelspec": {
   "display_name": "Python 3",
   "language": "python",
   "name": "python3"
  },
  "language_info": {
   "codemirror_mode": {
    "name": "ipython",
    "version": 3
   },
   "file_extension": ".py",
   "mimetype": "text/x-python",
   "name": "python",
   "nbconvert_exporter": "python",
   "pygments_lexer": "ipython3",
   "version": "3.10.12"
  }
 },
 "nbformat": 4,
 "nbformat_minor": 5
}
